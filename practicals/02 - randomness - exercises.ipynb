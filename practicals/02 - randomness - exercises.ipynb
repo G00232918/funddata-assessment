{
 "cells": [
  {
   "cell_type": "markdown",
   "id": "24131fa4",
   "metadata": {
    "toc": true
   },
   "source": [
    "<h1>Table of Contents<span class=\"tocSkip\"></span></h1>\n",
    "<div class=\"toc\"><ul class=\"toc-item\"><li><span><a href=\"#Exercise-1\" data-toc-modified-id=\"Exercise-1-1\">Exercise 1</a></span><ul class=\"toc-item\"><li><ul class=\"toc-item\"><li><span><a href=\"#Formula-Explained--\" data-toc-modified-id=\"Formula-Explained---1.0.1\">Formula Explained -</a></span></li><li><span><a href=\"#Formula-in-math--\" data-toc-modified-id=\"Formula-in-math---1.0.2\">Formula in math -</a></span><ul class=\"toc-item\"><li><span><a href=\"#Example-digging-for-gold\" data-toc-modified-id=\"Example-digging-for-gold-1.0.2.1\">Example digging for gold</a></span></li></ul></li></ul></li></ul></li><li><span><a href=\"#Exercise-2\" data-toc-modified-id=\"Exercise-2-2\">Exercise 2</a></span></li><li><span><a href=\"#Exercise-3\" data-toc-modified-id=\"Exercise-3-3\">Exercise 3</a></span><ul class=\"toc-item\"><li><span><a href=\"#Dirichlet-Distribution\" data-toc-modified-id=\"Dirichlet-Distribution-3.1\">Dirichlet Distribution</a></span><ul class=\"toc-item\"><li><span><a href=\"#Poisson-Distribution\" data-toc-modified-id=\"Poisson-Distribution-3.1.1\">Poisson Distribution</a></span></li><li><span><a href=\"#Exponential-Distribution\" data-toc-modified-id=\"Exponential-Distribution-3.1.2\">Exponential Distribution</a></span></li></ul></li></ul></li></ul></div>"
   ]
  },
  {
   "cell_type": "markdown",
   "id": "125ba07b",
   "metadata": {},
   "source": [
    "## Exercise 1\n",
    "\n",
    "It is somewhat interesting that `(5 * 4 * 3 * 2 * 1)` perfectly divides `(10 * 9 * 8 * 7 * 6)` - there's no remainder.\n",
    "\n",
    "If we only wanted exactly four heads as opposed to five, the equivalent calculation would be `(10 * 9 * 8 * 7) / (4 * 3 * 2 * 1)`.\n",
    "\n",
    "Does that evenly divide too? What is the formula in general?\n",
    "\n",
    "Does it always come out as a positive whole number?\n"
   ]
  },
  {
   "cell_type": "code",
   "execution_count": 5,
   "id": "42809394",
   "metadata": {},
   "outputs": [
    {
     "data": {
      "text/plain": [
       "210"
      ]
     },
     "execution_count": 5,
     "metadata": {},
     "output_type": "execute_result"
    }
   ],
   "source": [
    "# Firstly check does the datasets divide evenly.\n",
    "(10*9*8*7) // (4*3*2*1)"
   ]
  },
  {
   "cell_type": "markdown",
   "id": "5c0581a9",
   "metadata": {},
   "source": [
    "#### Formula Explained -\n",
    "\n",
    "This type of situation where you have a coin toss is known as Binomial Distribution. The formula, in this case is how two possible outcomes (heads or tails) under given number of parameters are obtained. The result given, summarizes the number of the flips when there is the same chance of recieving one outcome."
   ]
  },
  {
   "attachments": {
    "Binomial%20formula%20image.png": {
     "image/png": "[encoded data removed]"
    }
   },
   "cell_type": "markdown",
   "id": "a62d37fb",
   "metadata": {},
   "source": [
    "#### Formula in math -  \n",
    "![Binomial%20formula%20image.png](attachment:Binomial%20formula%20image.png)\n",
    "\n",
    "\n",
    "Elements\n",
    "- P - probability\n",
    "- n - number of trials ran (number of flips in the example used)\n",
    "- N - number of successes"
   ]
  },
  {
   "cell_type": "markdown",
   "id": "799b08c4",
   "metadata": {},
   "source": [
    "Binomial Distribution can come out as negative number when the parameters set are not set symmetrically. For the example from the lecture you you have a coin toss, probability is set for heads or tails, so you have 2 chances which is set as 0.5.\n",
    "\n",
    "If the probability is set to greater or less than 0.5, your distribution will be whole number. See the example below."
   ]
  },
  {
   "cell_type": "markdown",
   "id": "c7a2ca1a",
   "metadata": {},
   "source": [
    "##### Example digging for gold"
   ]
  },
  {
   "cell_type": "code",
   "execution_count": 6,
   "id": "4410bc39",
   "metadata": {},
   "outputs": [
    {
     "name": "stdout",
     "output_type": "stream",
     "text": [
      "1 dig for gold, probability of success = 0.10009\n",
      "2 dig for gold, probability of success = 0.1905\n",
      "3 dig for gold, probability of success = 0.27114\n",
      "4 dig for gold, probability of success = 0.3431\n",
      "5 dig for gold, probability of success = 0.40812\n"
     ]
    }
   ],
   "source": [
    "import numpy as np\n",
    "# setting the parameter, so it can be a 0 or 1 based on 10% chance where there is\n",
    "# 10000 digs\n",
    "parameters = np.random.negative_binomial(1, 0.1, 100000)\n",
    "# set a range for 5 digs to show the results\n",
    "for i in range(1, 6): \n",
    "   probability = sum(parameters<i) / 100000.\n",
    "   print(i, \"dig for gold, probability of success =\", probability)"
   ]
  },
  {
   "cell_type": "markdown",
   "id": "a6023d0e",
   "metadata": {},
   "source": [
    "## Exercise 2\n",
    "\n",
    "Explain why there are the same number of ways to get 4 tails as there is to get 4 heads."
   ]
  },
  {
   "cell_type": "code",
   "execution_count": 7,
   "id": "355b6d98",
   "metadata": {},
   "outputs": [
    {
     "name": "stdout",
     "output_type": "stream",
     "text": [
      "0.0625\n",
      "0.0625\n"
     ]
    }
   ],
   "source": [
    "# So the probability of heads or tails is expected to be 0.5.\n",
    "# To demonstrate the probability see the following calculation.\n",
    "# So your flipping the coins 4 times and probability of one outcome is 0.5.\n",
    "\n",
    "prob_of_heads = 0.5*0.5*0.5*0.5\n",
    "prob_of_tails = 0.5*0.5*0.5*0.5\n",
    "\n",
    "print(str(prob_of_heads))\n",
    "print(str(prob_of_tails))\n"
   ]
  },
  {
   "cell_type": "markdown",
   "id": "ac1cd7a0",
   "metadata": {},
   "source": [
    "Based on the calculation, the probability of 4 heads is the same as getting 4 tails. "
   ]
  },
  {
   "cell_type": "markdown",
   "id": "13c285ae",
   "metadata": {},
   "source": [
    "## Exercise 3\n",
    "\n",
    "Plot bar charts or histograms of any three different distributions listed at the following link:\n",
    "\n",
    "https://numpy.org/doc/stable/reference/random/generator.html#distributions"
   ]
  },
  {
   "cell_type": "markdown",
   "id": "63ca05ce",
   "metadata": {},
   "source": [
    "### Dirichlet Distribution \n",
    "This distribution is used in probability when you have more than 2 options.Also each strand would have an average length, allowing some variation in the relative sizes of the pieces."
   ]
  },
  {
   "cell_type": "code",
   "execution_count": 15,
   "id": "278c5bfb",
   "metadata": {},
   "outputs": [
    {
     "data": {
      "image/png": "[encoded data removed]",
      "text/plain": [
       "<Figure size 432x288 with 1 Axes>"
      ]
     },
     "metadata": {
      "needs_background": "light"
     },
     "output_type": "display_data"
    }
   ],
   "source": [
    "import matplotlib.pyplot as plt\n",
    "\n",
    "# Firstly the variable name and values need to be set\n",
    "# For this distribution you need to set the length, width and max. value\n",
    "# Transpose - change row elements into column elements and vice versa\n",
    "\n",
    "Hairlen = np.random.default_rng().dirichlet((15, 4, 7), 1000).transpose()\n",
    "\n",
    "# Three sets in the blue, yellow, red returning a random range based on the formula used. \n",
    "\n",
    "plt.barh(range(1000), Hairlen[0])\n",
    "plt.barh(range(1000), Hairlen[1], left=Hairlen[0], color='y')\n",
    "plt.barh(range(1000), Hairlen[2], left=Hairlen[0]+Hairlen[1], color='r')\n",
    "\n",
    "plt.title(\"Inidividual hair length\")\n",
    "plt.show() "
   ]
  },
  {
   "cell_type": "markdown",
   "id": "7fc2411c",
   "metadata": {},
   "source": [
    "#### Poisson Distribution\n",
    "\n",
    "This distribution estimates how many times an occurs in a specified time. For example, how many times a person eats in the day."
   ]
  },
  {
   "cell_type": "code",
   "execution_count": 16,
   "id": "199f1cfd",
   "metadata": {
    "scrolled": true
   },
   "outputs": [
    {
     "data": {
      "image/png": "[encoded data removed]",
      "text/plain": [
       "<Figure size 432x288 with 1 Axes>"
      ]
     },
     "metadata": {
      "needs_background": "light"
     },
     "output_type": "display_data"
    }
   ],
   "source": [
    "import numpy as np\n",
    "rng = np.random.default_rng()\n",
    "\n",
    "# the range of people in the example given above\n",
    "# lam = rate or no. of occurences \n",
    "s = rng.poisson(lam=2, size=10000)\n",
    "\n",
    "import matplotlib.pyplot as plt\n",
    "count, bins, ignored = plt.hist(s, 10, density=True)\n",
    "plt.show()"
   ]
  },
  {
   "cell_type": "markdown",
   "id": "7863c09c",
   "metadata": {},
   "source": [
    "#### Exponential Distribution\n",
    "This distribution is a follow from Poisson, the difference being this is the probability distribution of the time between events in a Poisson point process."
   ]
  },
  {
   "cell_type": "code",
   "execution_count": 17,
   "id": "e4f6c097",
   "metadata": {},
   "outputs": [
    {
     "data": {
      "image/png": "[encoded data removed]",
      "text/plain": [
       "<Figure size 432x288 with 1 Axes>"
      ]
     },
     "metadata": {
      "needs_background": "light"
     },
     "output_type": "display_data"
    }
   ],
   "source": [
    "import matplotlib.pyplot as plt\n",
    "import numpy as np\n",
    "\n",
    "#fixing the seed for reproducibility of the result\n",
    "# so the has a set beginning\n",
    "np.random.seed(10)\n",
    "\n",
    "# Sample size\n",
    "size = 10000\n",
    "\n",
    "sample = np.random.exponential(1, size)\n",
    "# Setting the range and intervals\n",
    "bin = np.arange(0,10,0.1)\n",
    "\n",
    "plt.hist(sample, bins=bin, edgecolor='g') \n",
    "plt.title(\"Exponential Distribution\") \n",
    "plt.show()"
   ]
  },
  {
   "cell_type": "code",
   "execution_count": null,
   "id": "72009ace",
   "metadata": {},
   "outputs": [],
   "source": []
  }
 ],
 "metadata": {
  "kernelspec": {
   "display_name": "Python 3 (ipykernel)",
   "language": "python",
   "name": "python3"
  },
  "language_info": {
   "codemirror_mode": {
    "name": "ipython",
    "version": 3
   },
   "file_extension": ".py",
   "mimetype": "text/x-python",
   "name": "python",
   "nbconvert_exporter": "python",
   "pygments_lexer": "ipython3",
   "version": "3.9.7"
  },
  "toc": {
   "base_numbering": 1,
   "nav_menu": {},
   "number_sections": false,
   "sideBar": true,
   "skip_h1_title": false,
   "title_cell": "Table of Contents",
   "title_sidebar": "Contents",
   "toc_cell": true,
   "toc_position": {},
   "toc_section_display": true,
   "toc_window_display": false
  }
 },
 "nbformat": 4,
 "nbformat_minor": 5
}
