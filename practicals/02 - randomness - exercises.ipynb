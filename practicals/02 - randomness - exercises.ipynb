{
 "cells": [
  {
   "cell_type": "markdown",
   "id": "125ba07b",
   "metadata": {},
   "source": [
    "### Exercise 1\n",
    "\n",
    "It is somewhat interesting that `(5 * 4 * 3 * 2 * 1)` perfectly divides `(10 * 9 * 8 * 7 * 6)` - there's no remainder.\n",
    "\n",
    "If we only wanted exactly four heads as opposed to five, the equivalent calculation would be `(10 * 9 * 8 * 7) / (4 * 3 * 2 * 1)`.\n",
    "\n",
    "Does that evenly divide too? What is the formula in general?\n",
    "\n",
    "Does it always come out as a positive whole number?\n"
   ]
  },
  {
   "cell_type": "code",
   "execution_count": 1,
   "id": "42809394",
   "metadata": {},
   "outputs": [
    {
     "data": {
      "text/plain": [
       "210"
      ]
     },
     "execution_count": 1,
     "metadata": {},
     "output_type": "execute_result"
    }
   ],
   "source": [
    "# Firstly check does the datasets divide evenly.\n",
    "(10*9*8*7) // (4*3*2*1)"
   ]
  },
  {
   "cell_type": "markdown",
   "id": "5c0581a9",
   "metadata": {},
   "source": [
    "#### Formula Explained -\n",
    "\n",
    "This type of situation where you have a coin toss is known as Binomial Distribution. The formula, in this case is how two possible outcomes (heads or tails) under given number of parameters are obtained. The result given, summarizes the number of the flips when there is the same chance of recieving one outcome."
   ]
  },
  {
   "attachments": {
    "Binomial%20formula%20image.png": {
     "image/png": "[encoded data removed]"
    }
   },
   "cell_type": "markdown",
   "id": "a62d37fb",
   "metadata": {},
   "source": [
    "#### Formula in math -  \n",
    "![Binomial%20formula%20image.png](attachment:Binomial%20formula%20image.png)\n",
    "\n",
    "\n",
    "Elements\n",
    "- P - probability\n",
    "- n - number of trials ran (number of flips in the example used)\n",
    "- N - number of successes"
   ]
  },
  {
   "cell_type": "markdown",
   "id": "799b08c4",
   "metadata": {},
   "source": [
    "Binomial Distribution can come out as negative number when the parameters set are not set symmetrically. For the example from the lecture you you have a coin toss, probability is set for heads or tails, so you have 2 chances which is set as 0.5.\n",
    "\n",
    "If the probability is set to greater or less than 0.5, your distribution will be whole number. See the example below."
   ]
  },
  {
   "cell_type": "markdown",
   "id": "c7a2ca1a",
   "metadata": {},
   "source": [
    "##### Example digging for gold"
   ]
  },
  {
   "cell_type": "code",
   "execution_count": 10,
   "id": "4410bc39",
   "metadata": {},
   "outputs": [
    {
     "name": "stdout",
     "output_type": "stream",
     "text": [
      "1 dig for gold, probability of success = 0.10029\n",
      "2 dig for gold, probability of success = 0.18905\n",
      "3 dig for gold, probability of success = 0.26935\n",
      "4 dig for gold, probability of success = 0.34316\n",
      "5 dig for gold, probability of success = 0.40728\n"
     ]
    }
   ],
   "source": [
    "import numpy as np\n",
    "# setting the parameter, so it can be a 0 or 1 based on 10% chance where there is\n",
    "# 10000 digs\n",
    "parameters = np.random.negative_binomial(1, 0.1, 100000)\n",
    "# set a range for 5 digs to show the results\n",
    "for i in range(1, 6): \n",
    "   probability = sum(parameters<i) / 100000.\n",
    "   print(i, \"dig for gold, probability of success =\", probability)"
   ]
  },
  {
   "cell_type": "markdown",
   "id": "a6023d0e",
   "metadata": {},
   "source": [
    "### Exercise 2\n",
    "\n",
    "Explain why there are the same number of ways to get 4 tails as there is to get 4 heads."
   ]
  },
  {
   "cell_type": "markdown",
   "id": "f876234b",
   "metadata": {},
   "source": [
    "There is the same number ways of get heads and tails because the probabilty is always heads or tails, so you have a 50/50 chance. Based on the 8 tosses, the results will show as they do. The parameter has been set to 8, so for example if you had another set of 8 tosses you may get a different order of the results but they won't change from either heads or tails. "
   ]
  },
  {
   "cell_type": "code",
   "execution_count": 18,
   "id": "78968bc6",
   "metadata": {},
   "outputs": [
    {
     "name": "stdout",
     "output_type": "stream",
     "text": [
      "Probability of getting 4 heads is 0.5.\n"
     ]
    }
   ],
   "source": [
    "# Example to demonstrate the 0.5 chance. \n",
    "\n",
    "import random \n",
    "\n",
    "# The function \"prob_head\" below return the number of head divided by the number of coin toss\n",
    "# The input variable \"number_toss\" is number of times we toss a coin\n",
    "def prob_head(number_of_toss):\n",
    "\n",
    "    # \"heads\" is our number of heads. \n",
    "    # Initially it is equal to 0\n",
    "    heads = 0\n",
    "\n",
    "    # We toss a coin \"number_toss\" times...\n",
    "    for i in range(0, number_of_toss):\n",
    "        # We create a random number \"flip\" comprised in {0,1}        \n",
    "        result = int(random.random()*2)\n",
    "\n",
    "        # Heads is equal to 0 and tails is equal 1\n",
    "\n",
    "        if (result == 0):\n",
    "            # \"result\" = 0, so it's a head !\n",
    "            # We have to increment the number of \"heads\" by 1:\n",
    "            heads=heads + 1 \n",
    "\n",
    "    return float(heads)/number_of_toss\n",
    "\n",
    "# Here's a test of our function: \"prob_head\"\n",
    "my_number_toss = 8\n",
    "my_head_probability = prob_head(my_number_toss)\n",
    "\n",
    "print(f'Probability of getting 4 heads is {my_head_probability}.')"
   ]
  },
  {
   "cell_type": "code",
   "execution_count": null,
   "id": "06ac404d",
   "metadata": {},
   "outputs": [],
   "source": []
  },
  {
   "cell_type": "code",
   "execution_count": null,
   "id": "ec383cdc",
   "metadata": {},
   "outputs": [],
   "source": []
  },
  {
   "cell_type": "code",
   "execution_count": null,
   "id": "9708a735",
   "metadata": {},
   "outputs": [],
   "source": []
  }
 ],
 "metadata": {
  "kernelspec": {
   "display_name": "Python 3 (ipykernel)",
   "language": "python",
   "name": "python3"
  },
  "language_info": {
   "codemirror_mode": {
    "name": "ipython",
    "version": 3
   },
   "file_extension": ".py",
   "mimetype": "text/x-python",
   "name": "python",
   "nbconvert_exporter": "python",
   "pygments_lexer": "ipython3",
   "version": "3.9.7"
  }
 },
 "nbformat": 4,
 "nbformat_minor": 5
}
