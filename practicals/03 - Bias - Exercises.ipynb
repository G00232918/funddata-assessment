{
 "cells": [
  {
   "cell_type": "markdown",
   "id": "9a62a8fe",
   "metadata": {},
   "source": [
    "### Exercise 1"
   ]
  },
  {
   "cell_type": "markdown",
   "id": "f1c9d6d6",
   "metadata": {},
   "source": [
    "Give three real-world examples of different types of cognitive bias."
   ]
  },
  {
   "cell_type": "markdown",
   "id": "20a830d1",
   "metadata": {},
   "source": [
    "#### Introduction\n",
    "\n",
    "In the real-world much of a human's time is spent trying to make the correct decisions which can impact how your day will pan out or large chunk of time depending on what your decision. Our cognitive faculties are fallible and prone to error. Cognitive biases are not inherently good or bad. Cognitive bias can be made up from previous experiences a person had. People's judgements can follow patterns that can sometimes lead to success or failure in getting the required result,(\"Martha Whitesmith (2020)\").\n",
    "\n",
    "#### Examples\n",
    "\n",
    "Three real-world examples of cognitive bias are the following -\n",
    "\n",
    "#### Confirmation Bias\n",
    "\n",
    "This is the tendency to search for, interpret, favor, and recall information in a way that confirms or supports one's prior beliefs or values. This probably one of the most common biases as people will more often will make there decisions based on what they know and are familiar with. Sometimes maybe have confirmation bias subconciously,(Wikipedia) . \n",
    "\n",
    "From my research, I found a Ted Talk that really resonated with Confirmation Bias and how it works. The main example was about Dreyfus who was a Jewish artillery officer who was convicted for communicating French military sectets to the German Embassy. It took Colonel Picquart ten years to get justice for Dreyfus who was innocent. There was one thing that really stood out was that Picquart was anti-sematic but it did not stop him from trying to get Dreyfus justice(youtube). \n",
    "\n",
    "The main difference between Picquart and the rest of the high ranking officers was that he wasn't willing to let his bias get in the way of thinking rationally. At different stages of the investigation when Picquart brought evidence of somebody else with the same handwriting as Dreyfus, the other officers made up ellaborate rationalisation that another soldier had learn't to write like Dreyfus. \n",
    "\n",
    "So confirmation bias can really be about how you want the result to return depending on your motivations and beliefs. The opposite is someone who takes out all the tendicies and thinks rationally and is proud to be wrong and learn from mistakes.\n",
    "\n",
    "\n",
    "#### Conservatism Bias \n",
    "\n",
    "This is where people emphahsise on older or pre-exisitng data. What this does then is make people slower to make decisions when reacting or recieving new information based on same topic(Investopedia).\n",
    "\n",
    "Conservative Bias can related to stock trading or gambling. Both are about predicting the correct results. What happens is that people hold on to their previous opinion without properly assessing new information recieved. This type of bias is more likely to happen when the new nformaiton is difficult process. \n",
    "\n",
    "Particularly in horse racing, the ground can be variable, you could have your mind set on for a few weeks on a horse and the night before the going can change. You will find it very hard to change your opinion when you have invested all the time into studying the form and coming to your conclusion. It happens very often, when the going changes, the predicted result can change drastically. \n",
    "\n",
    "\n",
    "\n",
    "#### Anchoring Bias\n",
    "\n",
    "Anchoring bias is people's tendency to use the first piece of information recieved on a subject as the anchor. What this does then is acts as reference point for any decisions, expectations and judgements. Depending on what the anchor is, this type of cognitive bias can be lead to really poor decision making. If the anchor is inaccurate, this can give the person a wrong perception of how to assess a situation(indeed).\n",
    "\n",
    "A real life example can be in negotiating a salary for a new job. When you speak to the recruiter they say that the salary is 40k per year. You were hoping for 70k per year, but you know now that the anchor is. So more than likely you will not ask for 70k per year as you will be basing your request off the anchor.\n",
    "\n",
    "\n",
    "### References\n",
    "\n",
    "1. Harvard - Martha Whitesmith (2020) Cognitive Bias in Intelligence Analysis. Edinburgh: Edinburgh University Press (Intelligence, Surveillance and Secret Warfare).\n",
    "\n",
    "2. https://en.wikipedia.org/wiki/Confirmation_bias\n",
    "\n",
    "3. https://www.youtube.com/watch?v=w4RLfVxTGH4&list=PLM6UU-rrnq21zCW2u04vcChW_Ag5R0AZp\n",
    "\n",
    "4. https://www.investopedia.com/articles/investing/022015/how-cognitive-bias-affects-your-business.asp\n",
    "\n",
    "5. https://uk.indeed.com/career-advice/career-development/anchoring-bias"
   ]
  },
  {
   "cell_type": "markdown",
   "id": "fdcaee44",
   "metadata": {},
   "source": [
    "### Exercise 2"
   ]
  },
  {
   "cell_type": "markdown",
   "id": "dd8f6e71",
   "metadata": {},
   "source": [
    "Show the difference between the standard deviation calculations is greatest for small sample sizes."
   ]
  },
  {
   "cell_type": "code",
   "execution_count": 77,
   "id": "8a7bb9f6",
   "metadata": {},
   "outputs": [
    {
     "name": "stdout",
     "output_type": "stream",
     "text": [
      "[-1.49681301 -2.21215251  2.9404348  -1.50306144 -1.06398363 -0.22585591\n",
      "  0.22658402  0.23444256 -2.96189474 -0.22503726]\n",
      "[ 4.69421845 -2.42857911 -1.8392018   1.58211268  2.89688815 -0.80161517\n",
      " -2.37511094  1.76032004 -1.939684   -0.42284122 -0.29204666 -1.18828204\n",
      "  0.1860701  -0.98422768  2.48337374 -0.89335416  1.24106715 -2.79806233\n",
      "  1.31663996  3.98001261 -1.61245921 -1.79139792 -1.22288699 -2.20599655\n",
      " -0.11013981  1.3336811  -2.09022437  1.40450605 -0.23512638 -1.36868592\n",
      " -1.01097529  0.28165219  0.97050628  1.60885043  1.34729902 -1.13097754\n",
      "  0.15999805 -3.46397366 -1.2465982   3.04181985 -0.73887208 -1.30763225\n",
      " -1.80625155 -0.24415828  0.50146044  1.41451229 -0.74378025 -1.19146756\n",
      " -1.52987455  0.06197622  0.11032974 -1.71489975 -1.18825038  1.53854598\n",
      "  2.31042436  1.22218045 -1.74032001  0.54501777 -2.602879    3.51493423\n",
      "  3.50587102  1.34997937 -0.85513078 -0.94649554  2.07190328  1.96441829\n",
      " -2.07664912 -0.58722838 -0.39251427  1.85048587  1.10090539  0.63566463\n",
      " -5.04053454 -3.67538901 -0.91861586 -0.32635873 -0.2477668   1.24816436\n",
      "  2.95309034  2.27075759 -2.41206006 -1.5304907  -2.68618731 -1.7715836\n",
      " -1.39127698 -2.6558553  -3.04624572  3.83426922  1.24265046 -1.42211533\n",
      "  1.59104857 -0.28050725 -0.79151065  1.9297807   3.1525506  -0.92097557\n",
      "  0.76810998  1.38222924 -1.76652587  2.24046765]\n"
     ]
    }
   ],
   "source": [
    "import numpy as np\n",
    "import random\n",
    "import matplotlib.pyplot as plt\n",
    "\n",
    "\n",
    "# Generate the sample sizes for one small and one large sample size\n",
    "small = np.random.normal(0.0, 2.0, 10)\n",
    "print(small)\n",
    "\n",
    "large = np.random.normal(0.0, 2.0, 100)\n",
    "print(large)"
   ]
  },
  {
   "cell_type": "code",
   "execution_count": 78,
   "id": "c4b024c3",
   "metadata": {},
   "outputs": [
    {
     "data": {
      "text/plain": [
       "2.419919553430051"
      ]
     },
     "execution_count": 78,
     "metadata": {},
     "output_type": "execute_result"
    }
   ],
   "source": [
    "# Uncorrected variance\n",
    "np.mean(np.square(small - np.mean(small)))"
   ]
  },
  {
   "cell_type": "code",
   "execution_count": 79,
   "id": "0060467e",
   "metadata": {},
   "outputs": [
    {
     "data": {
      "text/plain": [
       "2.688799503811168"
      ]
     },
     "execution_count": 79,
     "metadata": {},
     "output_type": "execute_result"
    }
   ],
   "source": [
    "# Corrected variance.\n",
    "np.mean(np.square(small - np.mean(small))) * (len(small) / (len(small) - 1.0))"
   ]
  },
  {
   "cell_type": "code",
   "execution_count": 80,
   "id": "fb2149ca",
   "metadata": {},
   "outputs": [
    {
     "data": {
      "text/plain": [
       "3.64899013218879"
      ]
     },
     "execution_count": 80,
     "metadata": {},
     "output_type": "execute_result"
    }
   ],
   "source": [
    "# Uncorrected variance\n",
    "np.mean(np.square(large - np.mean(large)))"
   ]
  },
  {
   "cell_type": "code",
   "execution_count": 82,
   "id": "e3184309",
   "metadata": {},
   "outputs": [
    {
     "data": {
      "text/plain": [
       "3.6858486183725154"
      ]
     },
     "execution_count": 82,
     "metadata": {},
     "output_type": "execute_result"
    }
   ],
   "source": [
    "# Corrected variance\n",
    "np.mean(np.square(large - np.mean(large))) * (len(large) / (len(large) - 1.0))"
   ]
  },
  {
   "cell_type": "markdown",
   "id": "ec9ccd80",
   "metadata": {},
   "source": [
    "From the examples above the I have generated two random sample sizes where both have the same inputs but with different ranges.\n",
    "\n",
    "With a small group, a couple of larger inputs into the array can skew the standard deviation. Also the standard deviation will be more spread out as there is less variables.\n",
    "\n",
    "With the larger group there is more data that will be closer to the mean, which will result in the standard deviation being greater and will have less of a spread."
   ]
  },
  {
   "cell_type": "code",
   "execution_count": null,
   "id": "2d7f854a",
   "metadata": {},
   "outputs": [],
   "source": []
  }
 ],
 "metadata": {
  "kernelspec": {
   "display_name": "Python 3 (ipykernel)",
   "language": "python",
   "name": "python3"
  },
  "language_info": {
   "codemirror_mode": {
    "name": "ipython",
    "version": 3
   },
   "file_extension": ".py",
   "mimetype": "text/x-python",
   "name": "python",
   "nbconvert_exporter": "python",
   "pygments_lexer": "ipython3",
   "version": "3.9.7"
  }
 },
 "nbformat": 4,
 "nbformat_minor": 5
}
