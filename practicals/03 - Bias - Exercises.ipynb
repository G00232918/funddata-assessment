{
 "cells": [
  {
   "cell_type": "markdown",
   "id": "82c92477",
   "metadata": {
    "toc": true
   },
   "source": [
    "<h1>Table of Contents<span class=\"tocSkip\"></span></h1>\n",
    "<div class=\"toc\"><ul class=\"toc-item\"><li><span><a href=\"#Exercise-1\" data-toc-modified-id=\"Exercise-1-1\">Exercise 1</a></span><ul class=\"toc-item\"><li><ul class=\"toc-item\"><li><span><a href=\"#Introduction\" data-toc-modified-id=\"Introduction-1.0.1\">Introduction</a></span></li><li><span><a href=\"#Examples\" data-toc-modified-id=\"Examples-1.0.2\">Examples</a></span></li><li><span><a href=\"#Confirmation-Bias\" data-toc-modified-id=\"Confirmation-Bias-1.0.3\">Confirmation Bias</a></span></li><li><span><a href=\"#Conservatism-Bias\" data-toc-modified-id=\"Conservatism-Bias-1.0.4\">Conservatism Bias</a></span></li><li><span><a href=\"#Anchoring-Bias\" data-toc-modified-id=\"Anchoring-Bias-1.0.5\">Anchoring Bias</a></span></li></ul></li><li><span><a href=\"#References\" data-toc-modified-id=\"References-1.1\">References</a></span></li></ul></li><li><span><a href=\"#Exercise-2\" data-toc-modified-id=\"Exercise-2-2\">Exercise 2</a></span></li></ul></div>"
   ]
  },
  {
   "cell_type": "markdown",
   "id": "9a62a8fe",
   "metadata": {},
   "source": [
    "## Exercise 1"
   ]
  },
  {
   "cell_type": "markdown",
   "id": "f1c9d6d6",
   "metadata": {},
   "source": [
    "Give three real-world examples of different types of cognitive bias."
   ]
  },
  {
   "cell_type": "markdown",
   "id": "20a830d1",
   "metadata": {},
   "source": [
    "#### Introduction\n",
    "\n",
    "In the real-world much of a human's time is spent trying to make the correct decisions which can impact how your day will pan out or large chunk of time depending on what your decision. Our cognitive faculties are fallible and prone to error. Cognitive biases are not inherently good or bad. Cognitive bias can be made up from previous experiences a person had. People's judgements can follow patterns that can sometimes lead to success or failure in getting the required result,(\"Martha Whitesmith (2020)\").\n",
    "\n",
    "#### Examples\n",
    "\n",
    "Three real-world examples of cognitive bias are the following -\n",
    "\n",
    "#### Confirmation Bias\n",
    "\n",
    "This is the tendency to search for, interpret, favor, and recall information in a way that confirms or supports one's prior beliefs or values. This probably one of the most common biases as people will more often will make there decisions based on what they know and are familiar with. Sometimes maybe have confirmation bias subconciously,(Wikipedia) . \n",
    "\n",
    "From my research, I found a Ted Talk that really resonated with Confirmation Bias and how it works. The main example was about Dreyfus who was a Jewish artillery officer who was convicted for communicating French military sectets to the German Embassy. It took Colonel Picquart ten years to get justice for Dreyfus who was innocent. There was one thing that really stood out was that Picquart was anti-sematic but it did not stop him from trying to get Dreyfus justice(youtube). \n",
    "\n",
    "The main difference between Picquart and the rest of the high ranking officers was that he wasn't willing to let his bias get in the way of thinking rationally. At different stages of the investigation when Picquart brought evidence of somebody else with the same handwriting as Dreyfus, the other officers made up ellaborate rationalisation that another soldier had learn't to write like Dreyfus. \n",
    "\n",
    "So confirmation bias can really be about how you want the result to return depending on your motivations and beliefs. The opposite is someone who takes out all the tendicies and thinks rationally and is proud to be wrong and learn from mistakes.\n",
    "\n",
    "\n",
    "#### Conservatism Bias \n",
    "\n",
    "This is where people emphahsise on older or pre-exisitng data. What this does then is make people slower to make decisions when reacting or recieving new information based on same topic(Investopedia).\n",
    "\n",
    "Conservative Bias can related to stock trading or gambling. Both are about predicting the correct results. What happens is that people hold on to their previous opinion without properly assessing new information recieved. This type of bias is more likely to happen when the new informaiton is difficult process. \n",
    "\n",
    "Particularly in horse racing, the ground can be variable, you could have your mind set on for a few weeks on a horse and the night before the going can change. You will find it very hard to change your opinion when you have invested all the time into studying the form and coming to your conclusion. It happens very often, when the going changes, the predicted result can change drastically. \n",
    "\n",
    "\n",
    "\n",
    "#### Anchoring Bias\n",
    "\n",
    "Anchoring bias is people's tendency to use the first piece of information recieved on a subject as the anchor. What this does then is acts as reference point for any decisions, expectations and judgements. Depending on what the anchor is, this type of cognitive bias can be lead to really poor decision making. If the anchor is inaccurate, this can give the person a wrong perception of how to assess a situation(indeed).\n",
    "\n",
    "A real life example can be in negotiating a salary for a new job. When you speak to the recruiter they say that the salary is 40k per year. You were hoping for 70k per year, but you know now that the anchor is. So more than likely you will not ask for 70k per year as you will be basing your request off the anchor.\n",
    "\n",
    "\n",
    "### References\n",
    "\n",
    "1. Harvard - Martha Whitesmith (2020) Cognitive Bias in Intelligence Analysis. Edinburgh: Edinburgh University Press (Intelligence, Surveillance and Secret Warfare).\n",
    "\n",
    "2. https://en.wikipedia.org/wiki/Confirmation_bias\n",
    "\n",
    "3. https://www.youtube.com/watch?v=w4RLfVxTGH4&list=PLM6UU-rrnq21zCW2u04vcChW_Ag5R0AZp\n",
    "\n",
    "4. https://www.investopedia.com/articles/investing/022015/how-cognitive-bias-affects-your-business.asp\n",
    "\n",
    "5. https://uk.indeed.com/career-advice/career-development/anchoring-bias"
   ]
  },
  {
   "cell_type": "markdown",
   "id": "fdcaee44",
   "metadata": {},
   "source": [
    "## Exercise 2"
   ]
  },
  {
   "cell_type": "markdown",
   "id": "dd8f6e71",
   "metadata": {},
   "source": [
    "Show the difference between the standard deviation calculations is greatest for small sample sizes."
   ]
  },
  {
   "cell_type": "code",
   "execution_count": 1,
   "id": "8a7bb9f6",
   "metadata": {},
   "outputs": [
    {
     "name": "stdout",
     "output_type": "stream",
     "text": [
      "[ 1.42608854 -1.69538437 -0.1296332   1.50826665  4.74361719  2.06266162\n",
      "  1.0596488  -0.01544202  0.63533525  0.62839811]\n",
      "[-1.41193672e+00 -4.51342449e+00 -2.10900451e+00 -1.19000030e+00\n",
      "  1.80751433e+00  7.15807067e-01 -1.69851060e+00 -5.55445161e-01\n",
      "  7.16250918e-01  1.69518902e+00  2.85943838e-01  1.31145057e+00\n",
      " -3.36496407e-01  4.46816244e+00 -9.08276471e-02  1.87446415e+00\n",
      "  2.25493782e-01  4.57441281e+00  3.53298807e+00  2.84523737e+00\n",
      " -3.01385821e+00  1.56032031e+00  4.24100366e-01 -4.92488321e-01\n",
      "  1.24061648e+00 -2.68492946e+00  3.69446840e-01 -2.88573690e+00\n",
      " -1.91031565e+00 -3.57991643e-02  4.87382040e-01 -1.01541558e+00\n",
      " -2.25257006e+00 -4.00320537e+00  1.23282440e-01 -2.50174823e+00\n",
      " -6.00203097e-01 -1.01886816e-01 -5.37713155e-01  1.14625668e+00\n",
      " -8.02839386e-01 -3.86337939e+00  5.70064419e-01  3.10430210e+00\n",
      "  1.41776193e-01 -2.36509690e+00  1.37961118e+00  2.58074862e+00\n",
      "  1.70968386e-01  1.66526189e+00 -2.03169554e+00  2.64429057e+00\n",
      " -1.20447121e+00 -1.24373901e+00 -2.39660266e-01  1.77609989e+00\n",
      " -8.09353779e-01 -2.77725778e-01 -4.03951335e+00 -3.19156432e+00\n",
      " -1.55689170e-01  1.88020441e+00 -9.82135883e-01  4.85050123e-03\n",
      "  2.75364694e+00 -2.61574100e+00 -2.54422108e+00  3.33030233e+00\n",
      " -2.75060690e-01  8.93600718e-01  4.22354681e-01  4.69682352e-01\n",
      "  7.27380613e-01 -3.32006749e-01  2.13242008e+00  1.40875978e+00\n",
      " -1.17638637e+00 -4.45698578e-01 -3.86739848e-01  3.76036752e+00\n",
      " -3.60294439e+00 -1.64402187e-01 -6.33894428e-01 -1.83074165e+00\n",
      "  2.41949192e+00  2.22950493e+00  3.41803434e+00  1.56424063e+00\n",
      " -1.34762388e+00 -1.20930147e+00 -1.71962026e+00  8.69444933e-01\n",
      "  3.68383470e+00  6.45787307e-01  6.15176022e+00  2.59604972e+00\n",
      "  4.46178643e-01 -1.42361609e+00 -1.76464202e+00  1.03555417e+00]\n"
     ]
    }
   ],
   "source": [
    "import numpy as np\n",
    "import random\n",
    "import matplotlib.pyplot as plt\n",
    "\n",
    "\n",
    "# Generate the sample sizes for one small and one large sample size\n",
    "small = np.random.normal(0.0, 2.0, 10)\n",
    "print(small)\n",
    "\n",
    "large = np.random.normal(0.0, 2.0, 100)\n",
    "print(large)"
   ]
  },
  {
   "cell_type": "code",
   "execution_count": 2,
   "id": "c4b024c3",
   "metadata": {},
   "outputs": [
    {
     "data": {
      "text/plain": [
       "2.5425724949883532"
      ]
     },
     "execution_count": 2,
     "metadata": {},
     "output_type": "execute_result"
    }
   ],
   "source": [
    "# Uncorrected variance\n",
    "np.mean(np.square(small - np.mean(small)))"
   ]
  },
  {
   "cell_type": "code",
   "execution_count": 3,
   "id": "0060467e",
   "metadata": {},
   "outputs": [
    {
     "data": {
      "text/plain": [
       "2.8250805499870593"
      ]
     },
     "execution_count": 3,
     "metadata": {},
     "output_type": "execute_result"
    }
   ],
   "source": [
    "# Corrected variance.\n",
    "np.mean(np.square(small - np.mean(small))) * (len(small) / (len(small) - 1.0))"
   ]
  },
  {
   "cell_type": "code",
   "execution_count": 4,
   "id": "fb2149ca",
   "metadata": {},
   "outputs": [
    {
     "data": {
      "text/plain": [
       "4.296262901554186"
      ]
     },
     "execution_count": 4,
     "metadata": {},
     "output_type": "execute_result"
    }
   ],
   "source": [
    "# Uncorrected variance\n",
    "np.mean(np.square(large - np.mean(large)))"
   ]
  },
  {
   "cell_type": "code",
   "execution_count": 5,
   "id": "e3184309",
   "metadata": {},
   "outputs": [
    {
     "data": {
      "text/plain": [
       "4.33965949651938"
      ]
     },
     "execution_count": 5,
     "metadata": {},
     "output_type": "execute_result"
    }
   ],
   "source": [
    "# Corrected variance\n",
    "np.mean(np.square(large - np.mean(large))) * (len(large) / (len(large) - 1.0))"
   ]
  },
  {
   "cell_type": "markdown",
   "id": "ec9ccd80",
   "metadata": {},
   "source": [
    "From the examples above the I have generated two random sample sizes where both have the same inputs but with different ranges.\n",
    "\n",
    "With a small group, a couple of larger inputs into the array can skew the standard deviation. Also the standard deviation will be more spread out as there is less variables.\n",
    "\n",
    "With the larger group there is more data that will be closer to the mean, which will result in the standard deviation being greater and will have less of a spread."
   ]
  },
  {
   "cell_type": "code",
   "execution_count": null,
   "id": "2d7f854a",
   "metadata": {},
   "outputs": [],
   "source": []
  }
 ],
 "metadata": {
  "kernelspec": {
   "display_name": "Python 3 (ipykernel)",
   "language": "python",
   "name": "python3"
  },
  "language_info": {
   "codemirror_mode": {
    "name": "ipython",
    "version": 3
   },
   "file_extension": ".py",
   "mimetype": "text/x-python",
   "name": "python",
   "nbconvert_exporter": "python",
   "pygments_lexer": "ipython3",
   "version": "3.9.7"
  },
  "toc": {
   "base_numbering": 1,
   "nav_menu": {},
   "number_sections": false,
   "sideBar": true,
   "skip_h1_title": false,
   "title_cell": "Table of Contents",
   "title_sidebar": "Contents",
   "toc_cell": true,
   "toc_position": {},
   "toc_section_display": true,
   "toc_window_display": true
  }
 },
 "nbformat": 4,
 "nbformat_minor": 5
}
