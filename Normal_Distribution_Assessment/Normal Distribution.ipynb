{
 "cells": [
  {
   "cell_type": "markdown",
   "id": "37b7fbf6",
   "metadata": {},
   "source": [
    "To get any Normal Distribution you will need a dataset, the most common used is the population. The Normal Distribution can also be referred too as the bell-curve. When data is presented symmetrically on a diagram, the most common values will show as a bell curve which is usually the Normal Distribution point. "
   ]
  },
  {
   "cell_type": "markdown",
   "id": "d1c0e5d4",
   "metadata": {},
   "source": [
    "The mean and standard deviation make up Normal Distribution. The mean is the average of your dataset, how it is calculated is where if you add up the values of the dataset and devide by the number of the values. Standard deviation is based on the mean calculation. It is really how spread out the numbers are. For example a low standard deviation means that the data are clustered around the mean and on the other hand if there is a high standard deviation they are spread out. "
   ]
  },
  {
   "cell_type": "markdown",
   "id": "4152e753",
   "metadata": {},
   "source": [
    "##### Example of mean"
   ]
  },
  {
   "cell_type": "code",
   "execution_count": 2,
   "id": "2c404785",
   "metadata": {},
   "outputs": [
    {
     "data": {
      "text/plain": [
       "7.666666666666667"
      ]
     },
     "execution_count": 2,
     "metadata": {},
     "output_type": "execute_result"
    }
   ],
   "source": [
    "# import statisics library for calculating the mean of a dataset\n",
    "import statistics\n",
    "\n",
    "# Calculate the mean of a dataset\n",
    "statistics.mean([1,4,6,7,8,20])"
   ]
  },
  {
   "cell_type": "markdown",
   "id": "f73313b2",
   "metadata": {},
   "source": [
    "##### Example of Standard Deviation"
   ]
  },
  {
   "cell_type": "code",
   "execution_count": 4,
   "id": "9e137507",
   "metadata": {},
   "outputs": [
    {
     "name": "stdout",
     "output_type": "stream",
     "text": [
      "5.962847939999438\n"
     ]
    }
   ],
   "source": [
    "# import numpy to calculate standard deviation\n",
    "import numpy\n",
    "numbers = [1,4,6,7,8,20]\n",
    "answer = numpy.std(numbers)\n",
    "print(answer)"
   ]
  },
  {
   "cell_type": "markdown",
   "id": "827bb81a",
   "metadata": {},
   "source": [
    "Based on the examples, the standard deviation is near the mean which shows that this numbers variable has low standard deviation as the values are clustered around the mean value."
   ]
  },
  {
   "cell_type": "markdown",
   "id": "7a579f1d",
   "metadata": {},
   "source": [
    "Normal Distribution in society really matters as it is common practice to analyse the dataset you have and categorize the groups based on the Normal Distribution. For example in the workplace Job Satisfaction has become very important after the pandemic and companies are gathering data through surveys to be able to categorize the employee groups. With the bell-curve they can then pinpoint the problem areas and also learn from the employee groups on the higher end of the group as a whole."
   ]
  },
  {
   "cell_type": "code",
   "execution_count": null,
   "id": "2df35c01",
   "metadata": {},
   "outputs": [],
   "source": []
  }
 ],
 "metadata": {
  "kernelspec": {
   "display_name": "Python 3 (ipykernel)",
   "language": "python",
   "name": "python3"
  },
  "language_info": {
   "codemirror_mode": {
    "name": "ipython",
    "version": 3
   },
   "file_extension": ".py",
   "mimetype": "text/x-python",
   "name": "python",
   "nbconvert_exporter": "python",
   "pygments_lexer": "ipython3",
   "version": "3.9.7"
  }
 },
 "nbformat": 4,
 "nbformat_minor": 5
}
