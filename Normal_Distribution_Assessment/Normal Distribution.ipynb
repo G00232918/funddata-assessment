{
 "cells": [
  {
   "cell_type": "markdown",
   "id": "37b7fbf6",
   "metadata": {},
   "source": [
    "To get any Normal Distribution you will need a dataset, the most common used is the population. The Normal Distribution which can also be referred too as the bell-curve. When data is presented symmetrically on a diagram, the most common values will show as a bell curve which is usually the Normal Distribution point. "
   ]
  },
  {
   "cell_type": "markdown",
   "id": "fddf43d5",
   "metadata": {},
   "source": [
    "Normal Distribution in society really matters as it is common practice to analyse the dataset you have and categorize the groups based on the Normal Distribution. For example in the workplace Job Satisfaction has become very important after the pandemic and companies are gathering data through surveys to be able to categorize the employee groups. With the bell-curve they can then pinpoint the problem areas and also learn from the employee groups on the higher end of the group as a whole. "
   ]
  }
 ],
 "metadata": {
  "kernelspec": {
   "display_name": "Python 3 (ipykernel)",
   "language": "python",
   "name": "python3"
  },
  "language_info": {
   "codemirror_mode": {
    "name": "ipython",
    "version": 3
   },
   "file_extension": ".py",
   "mimetype": "text/x-python",
   "name": "python",
   "nbconvert_exporter": "python",
   "pygments_lexer": "ipython3",
   "version": "3.9.7"
  }
 },
 "nbformat": 4,
 "nbformat_minor": 5
}
